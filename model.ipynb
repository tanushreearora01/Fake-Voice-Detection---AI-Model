{
 "cells": [
  {
   "cell_type": "markdown",
   "metadata": {},
   "source": [
    "Import Libraries"
   ]
  },
  {
   "cell_type": "code",
   "execution_count": 2,
   "metadata": {},
   "outputs": [],
   "source": [
    "import librosa\n",
    "import numpy as np\n",
    "import pandas as pd\n",
    "import os\n",
    "\n",
    "from sklearn.model_selection import train_test_split\n",
    "from sklearn.linear_model import LogisticRegression\n",
    "from sklearn.metrics import accuracy_score, confusion_matrix\n",
    "\n",
    "import matplotlib.pyplot as plt\n",
    "import seaborn as sns"
   ]
  },
  {
   "cell_type": "code",
   "execution_count": 5,
   "metadata": {},
   "outputs": [],
   "source": [
    "def extract_features(audio_path):\n",
    "    audio, sample_rate = librosa.load(audio_path, sr=None)\n",
    "    mfccs = librosa.feature.mfcc(y=audio, sr=sample_rate, n_mfcc=20)\n",
    "    mfccs_processed = np.mean(mfccs.T, axis=0)\n",
    "    return mfccs_processed\n",
    "\n",
    "def augment_audio(audio, sample_rate):\n",
    "    # Add random noise\n",
    "    noise = np.random.randn(len(audio))\n",
    "    augmented_audio = audio + 0.005 * noise\n",
    "\n",
    "    # Pitch shifting\n",
    "    pitch_shifted = librosa.effects.pitch_shift(augmented_audio, sr=sample_rate, n_steps=4)\n",
    "\n",
    "    # Time stretching\n",
    "    time_stretched = librosa.effects.time_stretch(pitch_shifted, rate=0.8)\n",
    "    \n",
    "    return time_stretched\n",
    "\n",
    "def extract_augmented_features(file_path):\n",
    "    audio, sample_rate = librosa.load(file_path, sr=None)\n",
    "    augmented_audio = augment_audio(audio, sample_rate)\n",
    "    mfccs = librosa.feature.mfcc(y=augmented_audio, sr=sample_rate, n_mfcc=20)\n",
    "    mfccs_processed = np.mean(mfccs.T, axis=0)\n",
    "    return mfccs_processed"
   ]
  },
  {
   "cell_type": "code",
   "execution_count": 6,
   "metadata": {},
   "outputs": [],
   "source": [
    "def load_data(base_dir, protocol_path, augment = False):\n",
    "    data = pd.read_csv(protocol_path, sep=' ', header=None, names=['speaker_id','filename','system_id','null','class_name'])\n",
    "    features, labels = [], []\n",
    "    for index, row in data.iterrows():\n",
    "        file_path = os.path.join(base_dir, row['filename'] + '.flac')\n",
    "        # print(file_path)\n",
    "        if augment:\n",
    "            mfcc = extract_augmented_features(file_path)\n",
    "        else:\n",
    "            mfcc = extract_features(file_path)\n",
    "        features.append(mfcc)\n",
    "        labels.append(1 if row['class_name'] == 'bonafide' else 0)\n",
    "    return np.array(features), np.array(labels)"
   ]
  },
  {
   "cell_type": "code",
   "execution_count": null,
   "metadata": {},
   "outputs": [],
   "source": [
    "def plot_mfccs(features, labels):\n",
    "    plt.figure(figsize=(10, 6))\n",
    "    sns.scatterplot(x=features[:, 0], y=features[:, 1], hue=labels, palette='viridis', alpha=0.5)\n",
    "    plt.title('MFCCs Feature Distribution')\n",
    "    plt.xlabel('MFCC 1')\n",
    "    plt.ylabel('MFCC 2')\n",
    "    plt.legend(title='Label', labels=['Fake', 'Real'])\n",
    "    plt.show()\n",
    "\n",
    "def plot_confusion_matrix(y_true, y_pred):\n",
    "    cm = confusion_matrix(y_true, y_pred)\n",
    "    plt.figure(figsize=(6, 6))\n",
    "    sns.heatmap(cm, annot=True, fmt='d', cmap='Blues', xticklabels=['Fake', 'Real'], yticklabels=['Fake', 'Real'])\n",
    "    plt.xlabel('Predicted Label')\n",
    "    plt.ylabel('True Label')\n",
    "    plt.title('Confusion Matrix')\n",
    "    plt.show()"
   ]
  },
  {
   "cell_type": "code",
   "execution_count": 3,
   "metadata": {},
   "outputs": [],
   "source": [
    "# Path to the training dataset and protocol\n",
    "base_dir = './input/asvspoof-2019-dataset/LA/LA/ASVspoof2019_LA_train/flac'\n",
    "protocol_path = './input/asvspoof-2019-dataset/LA/LA/ASVspoof2019_LA_cm_protocols/ASVspoof2019.LA.cm.train.trn.txt'\n",
    "# protocol_path = './input/asvspoof-2019-dataset/LA/LA/ASVspoof2019_LA_cm_protocols/protocol_testinf.txt'"
   ]
  },
  {
   "cell_type": "markdown",
   "metadata": {},
   "source": [
    "With Augmentation"
   ]
  },
  {
   "cell_type": "code",
   "execution_count": null,
   "metadata": {},
   "outputs": [],
   "source": [
    "# Load and prepare the dataset\n",
    "AugX, Augy = load_data(base_dir, protocol_path, True)"
   ]
  },
  {
   "cell_type": "code",
   "execution_count": null,
   "metadata": {},
   "outputs": [],
   "source": [
    "plot_mfccs(AugX,Augy)\n",
    "# Split the dataset into training and test sets\n",
    "AugX_train, AugX_test, Augy_train, Augy_test = train_test_split(AugX, Augy, test_size=0.25, random_state=42)\n",
    "\n",
    "# Create and train the logistic regression model\n",
    "model = LogisticRegression(max_iter=1000)\n",
    "model.fit(AugX_train, Augy_train)\n",
    "\n",
    "# Evaluate the model\n",
    "Aug_predictions = model.predict(AugX_test)\n",
    "Aug_accuracy = accuracy_score(Augy_test, Aug_predictions)\n",
    "\n",
    "print(f'Accuracy for logistical Regression Model with Augmented Audio: {Aug_accuracy:.2f}')\n",
    "\n",
    "plot_confusion_matrix(Augy_test, Aug_predictions)"
   ]
  },
  {
   "cell_type": "markdown",
   "metadata": {},
   "source": [
    "Without Augmentation"
   ]
  },
  {
   "cell_type": "code",
   "execution_count": null,
   "metadata": {},
   "outputs": [],
   "source": [
    "# Load and prepare the dataset without Audio Augmentation\n",
    "X, y = load_data(base_dir, protocol_path)"
   ]
  },
  {
   "cell_type": "markdown",
   "metadata": {},
   "source": [
    "Logistic Regression Model"
   ]
  },
  {
   "cell_type": "code",
   "execution_count": null,
   "metadata": {},
   "outputs": [],
   "source": [
    "plot_mfccs(X,y)\n",
    "# Split the dataset into training and test sets\n",
    "X_train, X_test, y_train, y_test = train_test_split(X, y, test_size=0.25, random_state=42)\n",
    "\n",
    "# Create and train the logistic regression model\n",
    "model = LogisticRegression(max_iter=1000)\n",
    "\n",
    "model.fit(X_train, y_train)\n",
    "\n",
    "\n",
    "\n",
    "# Evaluate the model\n",
    "predictions = model.predict(X_test)\n",
    "accuracy = accuracy_score(y_test, predictions)\n",
    "print(f'Accuracy: {accuracy:.2f}')\n",
    "plot_confusion_matrix(y_test, predictions)"
   ]
  },
  {
   "cell_type": "markdown",
   "metadata": {},
   "source": [
    "CNN Model"
   ]
  },
  {
   "cell_type": "code",
   "execution_count": 7,
   "metadata": {},
   "outputs": [],
   "source": [
    "from tensorflow.keras.preprocessing.image import ImageDataGenerator\n",
    "\n",
    "def cnn_load_data(base_dir, protocol_path,output_spectrogram_dir): \n",
    "\n",
    "    # Create output directories if they don't exist\n",
    "    os.makedirs(output_spectrogram_dir, exist_ok=True)\n",
    "\n",
    "\n",
    "    real_output_dir = os.path.join(output_spectrogram_dir, 'real')\n",
    "    fake_output_dir = os.path.join(output_spectrogram_dir, 'fake')\n",
    "\n",
    "    os.makedirs(real_output_dir, exist_ok=True)\n",
    "    os.makedirs(fake_output_dir, exist_ok=True)\n",
    "    \n",
    "    real_val_dir = './output/validation/real'\n",
    "    fake_val_dir = './output/validation/fake'\n",
    "    data = pd.read_csv(protocol_path, sep=' ', header=None, names=['speaker_id','filename','system_id','null','class_name'])\n",
    "    for index, row in data.iterrows():\n",
    "        file_path = os.path.join(base_dir, row['filename'] + '.flac')\n",
    "        if row['class_name'] == 'bonafide':\n",
    "            if not os.path.exists(os.path.join(real_output_dir, row['filename']+'.png')) and not os.path.exists(os.path.join(real_val_dir, row['filename']+'.png')):\n",
    "                process_directory(row['filename'], real_output_dir)\n",
    "                print(\"Real Happening\")\n",
    "        else:\n",
    "            if not os.path.exists(os.path.join(fake_output_dir, row['filename']+'.png')) and not os.path.exists(os.path.join(fake_val_dir, row['filename']+'.png')):\n",
    "                process_directory(row['filename'], fake_output_dir)\n",
    "                print(\"Fake Happening\")\n",
    "\n",
    "\n",
    "def save_spectrogram(audio, sample_rate, filename):\n",
    "    stft = librosa.stft(audio)\n",
    "    db = librosa.amplitude_to_db(np.abs(stft), ref=np.max)\n",
    "    plt.figure(figsize=(10, 4))\n",
    "    librosa.display.specshow(db, sr=sample_rate, x_axis='time', y_axis='log', cmap='coolwarm')\n",
    "    plt.colorbar(format='%+2.0f dB')\n",
    "    plt.title('Spectrogram')\n",
    "    plt.savefig(filename)\n",
    "    plt.close()\n",
    "\n",
    "\n",
    "def process_directory(filename, output_dir):\n",
    "    audio_path = os.path.join(base_dir, filename+'.flac')\n",
    "    audio, sample_rate = librosa.load(audio_path, sr=None)\n",
    "    output_filename = os.path.join(output_dir, os.path.splitext(filename)[0] + '.png')\n",
    "    save_spectrogram(audio, sample_rate, output_filename)\n",
    "\n",
    "\n",
    "\n",
    "def create_datagen(train_dir, val_dir, img_width, img_height, batch_size):\n",
    "    train_datagen = ImageDataGenerator(\n",
    "        rescale=1./255,\n",
    "        horizontal_flip=True,\n",
    "        rotation_range=10,\n",
    "        width_shift_range=0.1,\n",
    "        height_shift_range=0.1\n",
    "    )\n",
    "\n",
    "    val_datagen = ImageDataGenerator(rescale=1./255)\n",
    "\n",
    "    train_generator = train_datagen.flow_from_directory(\n",
    "        train_dir,\n",
    "        target_size=(img_height, img_width),\n",
    "        batch_size=batch_size,\n",
    "        class_mode='binary'\n",
    "    )\n",
    "\n",
    "    validation_generator = val_datagen.flow_from_directory(\n",
    "        val_dir,\n",
    "        target_size=(img_height, img_width),\n",
    "        batch_size=batch_size,\n",
    "        class_mode='binary',\n",
    "        shuffle=False\n",
    "    )\n",
    "\n",
    "    return train_generator, validation_generator\n"
   ]
  },
  {
   "cell_type": "code",
   "execution_count": 5,
   "metadata": {},
   "outputs": [],
   "source": [
    "from tensorflow.keras.models import Sequential\n",
    "from tensorflow.keras.layers import Conv2D, MaxPooling2D, Flatten, Dense, Dropout, Input\n",
    "\n",
    "def create_cnn_model(input_shape):\n",
    "    model = Sequential([\n",
    "        Input(input_shape),\n",
    "        Conv2D(32, (3, 3), activation='relu'),\n",
    "        MaxPooling2D(2, 2),\n",
    "        Conv2D(64, (3, 3), activation='relu'),\n",
    "        MaxPooling2D(2, 2),\n",
    "        Flatten(),\n",
    "        Dense(128, activation='relu'),\n",
    "        Dropout(0.5),\n",
    "        Dense(1, activation='sigmoid')\n",
    "    ])\n",
    "\n",
    "    model.compile(optimizer='adam', loss='binary_crossentropy', metrics=['accuracy'])\n",
    "    return model\n",
    "\n",
    "# Assuming the spectrograms are 150x150 pixels\n",
    "model = create_cnn_model((150, 150, 3))\n"
   ]
  },
  {
   "cell_type": "code",
   "execution_count": 9,
   "metadata": {},
   "outputs": [],
   "source": [
    "cnn_load_data(base_dir, protocol_path, './output/spectograms')\n",
    "\n",
    "# Split the data into training(75%) and testing(25%) using the following commands on the terminal\n",
    "# mv -- *([1,5700]) output/validation/fake\n",
    "# mv -- *([1,645]) output/validation/real"
   ]
  },
  {
   "cell_type": "code",
   "execution_count": 15,
   "metadata": {},
   "outputs": [],
   "source": [
    "from PIL import Image\n",
    "import os\n",
    "\n",
    "def validate_images(image_directory):\n",
    "    for root, dirs, files in os.walk(image_directory):\n",
    "        for file in files:\n",
    "            if file.lower().endswith(('png', 'jpg', 'jpeg')):\n",
    "                try:\n",
    "                    img_path = os.path.join(root, file)\n",
    "                    img = Image.open(img_path)  # Open the image file\n",
    "                    img.verify()  # Verify that it is, in fact, an image\n",
    "                except (IOError, SyntaxError) as e:\n",
    "                    print('Bad file:', img_path)  # Print out the names of corrupt files\n",
    "\n",
    "validate_images('./output/spectograms/real')\n",
    "validate_images('./output/spectograms/fake')\n",
    "validate_images('./output/validation/real')\n",
    "validate_images('./output/validation/fake')\n"
   ]
  },
  {
   "cell_type": "code",
   "execution_count": 16,
   "metadata": {},
   "outputs": [
    {
     "name": "stdout",
     "output_type": "stream",
     "text": [
      "Found 19114 images belonging to 2 classes.\n",
      "Found 6345 images belonging to 2 classes.\n",
      "Epoch 1/10\n"
     ]
    },
    {
     "name": "stderr",
     "output_type": "stream",
     "text": [
      "/Library/Frameworks/Python.framework/Versions/3.12/lib/python3.12/site-packages/keras/src/trainers/data_adapters/py_dataset_adapter.py:120: UserWarning: Your `PyDataset` class should call `super().__init__(**kwargs)` in its constructor. `**kwargs` can include `workers`, `use_multiprocessing`, `max_queue_size`. Do not pass these arguments to `fit()`, as they will be ignored.\n",
      "  self._warn_if_super_not_called()\n"
     ]
    },
    {
     "name": "stdout",
     "output_type": "stream",
     "text": [
      "\u001b[1m598/598\u001b[0m \u001b[32m━━━━━━━━━━━━━━━━━━━━\u001b[0m\u001b[37m\u001b[0m \u001b[1m292s\u001b[0m 484ms/step - accuracy: 0.8989 - loss: 0.2619 - val_accuracy: 0.9116 - val_loss: 0.1811\n",
      "Epoch 2/10\n",
      "\u001b[1m598/598\u001b[0m \u001b[32m━━━━━━━━━━━━━━━━━━━━\u001b[0m\u001b[37m\u001b[0m \u001b[1m294s\u001b[0m 487ms/step - accuracy: 0.9013 - loss: 0.2208 - val_accuracy: 0.9231 - val_loss: 0.1627\n",
      "Epoch 3/10\n",
      "\u001b[1m598/598\u001b[0m \u001b[32m━━━━━━━━━━━━━━━━━━━━\u001b[0m\u001b[37m\u001b[0m \u001b[1m294s\u001b[0m 487ms/step - accuracy: 0.9032 - loss: 0.2111 - val_accuracy: 0.9340 - val_loss: 0.1526\n",
      "Epoch 4/10\n",
      "\u001b[1m598/598\u001b[0m \u001b[32m━━━━━━━━━━━━━━━━━━━━\u001b[0m\u001b[37m\u001b[0m \u001b[1m318s\u001b[0m 527ms/step - accuracy: 0.9141 - loss: 0.1949 - val_accuracy: 0.9266 - val_loss: 0.1451\n",
      "Epoch 5/10\n",
      "\u001b[1m598/598\u001b[0m \u001b[32m━━━━━━━━━━━━━━━━━━━━\u001b[0m\u001b[37m\u001b[0m \u001b[1m316s\u001b[0m 524ms/step - accuracy: 0.9171 - loss: 0.1927 - val_accuracy: 0.9362 - val_loss: 0.1348\n",
      "Epoch 6/10\n",
      "\u001b[1m598/598\u001b[0m \u001b[32m━━━━━━━━━━━━━━━━━━━━\u001b[0m\u001b[37m\u001b[0m \u001b[1m319s\u001b[0m 529ms/step - accuracy: 0.9208 - loss: 0.1790 - val_accuracy: 0.9351 - val_loss: 0.1543\n",
      "Epoch 7/10\n",
      "\u001b[1m598/598\u001b[0m \u001b[32m━━━━━━━━━━━━━━━━━━━━\u001b[0m\u001b[37m\u001b[0m \u001b[1m324s\u001b[0m 537ms/step - accuracy: 0.9240 - loss: 0.1844 - val_accuracy: 0.9318 - val_loss: 0.1497\n",
      "Epoch 8/10\n",
      "\u001b[1m598/598\u001b[0m \u001b[32m━━━━━━━━━━━━━━━━━━━━\u001b[0m\u001b[37m\u001b[0m \u001b[1m320s\u001b[0m 531ms/step - accuracy: 0.9248 - loss: 0.1793 - val_accuracy: 0.9398 - val_loss: 0.1316\n",
      "Epoch 9/10\n",
      "\u001b[1m598/598\u001b[0m \u001b[32m━━━━━━━━━━━━━━━━━━━━\u001b[0m\u001b[37m\u001b[0m \u001b[1m311s\u001b[0m 516ms/step - accuracy: 0.9282 - loss: 0.1734 - val_accuracy: 0.9437 - val_loss: 0.1299\n",
      "Epoch 10/10\n",
      "\u001b[1m598/598\u001b[0m \u001b[32m━━━━━━━━━━━━━━━━━━━━\u001b[0m\u001b[37m\u001b[0m \u001b[1m289s\u001b[0m 480ms/step - accuracy: 0.9301 - loss: 0.1645 - val_accuracy: 0.9377 - val_loss: 0.1324\n"
     ]
    }
   ],
   "source": [
    "\n",
    "train_generator,validation_generator = create_datagen('./output/spectograms','./output/validation', 150, 150, 32)\n",
    "history = model.fit(\n",
    "    train_generator,\n",
    "    validation_data=validation_generator,\n",
    "    epochs=10\n",
    ")\n",
    "\n"
   ]
  },
  {
   "cell_type": "code",
   "execution_count": 17,
   "metadata": {},
   "outputs": [
    {
     "data": {
      "image/png": "[encoded data removed]",
      "text/plain": [
       "<Figure size 640x480 with 1 Axes>"
      ]
     },
     "metadata": {},
     "output_type": "display_data"
    },
    {
     "data": {
      "image/png": "[encoded data removed]",
      "text/plain": [
       "<Figure size 640x480 with 1 Axes>"
      ]
     },
     "metadata": {},
     "output_type": "display_data"
    }
   ],
   "source": [
    "plt.plot(history.history['accuracy'])\n",
    "plt.plot(history.history['val_accuracy'])\n",
    "plt.title('Model accuracy')\n",
    "plt.ylabel('Accuracy')\n",
    "plt.xlabel('Epoch')\n",
    "plt.legend(['Train', 'Test'], loc='upper left')\n",
    "plt.show()\n",
    "\n",
    "# Plot training & validation loss values\n",
    "plt.plot(history.history['loss'])\n",
    "plt.plot(history.history['val_loss'])\n",
    "plt.title('Model Loss')\n",
    "plt.ylabel('Loss')\n",
    "plt.xlabel('Epoch')\n",
    "plt.legend(['Train', 'Test'], loc='upper left')\n",
    "plt.show()\n",
    "\n"
   ]
  },
  {
   "cell_type": "code",
   "execution_count": 18,
   "metadata": {},
   "outputs": [
    {
     "name": "stdout",
     "output_type": "stream",
     "text": [
      "\u001b[1m199/199\u001b[0m \u001b[32m━━━━━━━━━━━━━━━━━━━━\u001b[0m\u001b[37m\u001b[0m \u001b[1m62s\u001b[0m 312ms/step\n"
     ]
    },
    {
     "data": {
      "image/png": "[encoded data removed]",
      "text/plain": [
       "<Figure size 800x600 with 1 Axes>"
      ]
     },
     "metadata": {},
     "output_type": "display_data"
    }
   ],
   "source": [
    "# x_train_batch, y_train_batch = next(train_generator)\n",
    "# x_test_batch, y_test_batch = next(validation_generator)\n",
    "\n",
    "validation_generator.reset()  # Reset the generator to be sure of the order\n",
    "predictions = model.predict(validation_generator)\n",
    "\n",
    "y_pred = (predictions > 0.5).astype(int)  # Convert probabilities to 0 or 1\n",
    "\n",
    "y_true = validation_generator.classes[:len(y_pred)]  # Ensure the length matches y_pred if the last batch is incomplete\n",
    "\n",
    "cm = confusion_matrix(y_true, y_pred)\n",
    "\n",
    "class_names = ['Fake', 'Real']\n",
    "\n",
    "plt.figure(figsize=(8, 6))\n",
    "sns.heatmap(cm, annot=True, fmt='d', cmap='Blues', cbar=False, xticklabels=class_names, yticklabels=class_names)\n",
    "plt.xlabel('Predicted Label')\n",
    "plt.ylabel('True Label')\n",
    "plt.title('Confusion Matrix')\n",
    "plt.show()"
   ]
  },
  {
   "cell_type": "code",
   "execution_count": 19,
   "metadata": {},
   "outputs": [
    {
     "name": "stdout",
     "output_type": "stream",
     "text": [
      "Accuracy: 0.94\n",
      "Recall: 0.82\n",
      "Precision: 0.65\n",
      "F1 Score: 0.73\n"
     ]
    }
   ],
   "source": [
    "from sklearn.metrics import accuracy_score, recall_score, precision_score, f1_score\n",
    "# Calculate metrics\n",
    "accuracy = accuracy_score(y_true, y_pred)\n",
    "recall = recall_score(y_true, y_pred)  # Assumes the positive class is 1\n",
    "precision = precision_score(y_true, y_pred)  # Assumes the positive class is 1\n",
    "f1 = f1_score(y_true, y_pred)  # Harmonic mean of precision and recall\n",
    "\n",
    "# Print metrics\n",
    "print(f\"Accuracy: {accuracy:.2f}\")\n",
    "print(f\"Recall: {recall:.2f}\")\n",
    "print(f\"Precision: {precision:.2f}\")\n",
    "print(f\"F1 Score: {f1:.2f}\")\n"
   ]
  }
 ],
 "metadata": {
  "kernelspec": {
   "display_name": "Python 3",
   "language": "python",
   "name": "python3"
  },
  "language_info": {
   "codemirror_mode": {
    "name": "ipython",
    "version": 3
   },
   "file_extension": ".py",
   "mimetype": "text/x-python",
   "name": "python",
   "nbconvert_exporter": "python",
   "pygments_lexer": "ipython3",
   "version": "3.12.1"
  }
 },
 "nbformat": 4,
 "nbformat_minor": 2
}
