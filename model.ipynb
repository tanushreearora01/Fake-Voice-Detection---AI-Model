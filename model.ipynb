{
 "cells": [
  {
   "cell_type": "markdown",
   "metadata": {},
   "source": [
    "Import Libraries"
   ]
  },
  {
   "cell_type": "code",
   "execution_count": null,
   "metadata": {},
   "outputs": [],
   "source": [
    "import librosa\n",
    "import numpy as np\n",
    "import pandas as pd\n",
    "import os\n",
    "\n",
    "from sklearn.model_selection import train_test_split\n",
    "from sklearn.linear_model import LogisticRegression\n",
    "from sklearn.metrics import accuracy_score, confusion_matrix\n",
    "\n",
    "import matplotlib.pyplot as plt\n",
    "import seaborn as sns"
   ]
  },
  {
   "cell_type": "code",
   "execution_count": null,
   "metadata": {},
   "outputs": [],
   "source": [
    "def extract_features(audio_path):\n",
    "    audio, sample_rate = librosa.load(audio_path, sr=None)\n",
    "    mfccs = librosa.feature.mfcc(y=audio, sr=sample_rate, n_mfcc=20)\n",
    "    mfccs_processed = np.mean(mfccs.T, axis=0)\n",
    "    return mfccs_processed\n",
    "\n",
    "def augment_audio(audio, sample_rate):\n",
    "    # Add random noise\n",
    "    noise = np.random.randn(len(audio))\n",
    "    augmented_audio = audio + 0.005 * noise\n",
    "\n",
    "    # Pitch shifting\n",
    "    pitch_shifted = librosa.effects.pitch_shift(augmented_audio, sr=sample_rate, n_steps=4)\n",
    "\n",
    "    # Time stretching\n",
    "    time_stretched = librosa.effects.time_stretch(pitch_shifted, rate=0.8)\n",
    "    \n",
    "    return time_stretched\n",
    "\n",
    "def extract_augmented_features(file_path):\n",
    "    audio, sample_rate = librosa.load(file_path, sr=None)\n",
    "    augmented_audio = augment_audio(audio, sample_rate)\n",
    "    mfccs = librosa.feature.mfcc(y=augmented_audio, sr=sample_rate, n_mfcc=20)\n",
    "    mfccs_processed = np.mean(mfccs.T, axis=0)\n",
    "    return mfccs_processed"
   ]
  },
  {
   "cell_type": "code",
   "execution_count": null,
   "metadata": {},
   "outputs": [],
   "source": [
    "def load_data(base_dir, protocol_path, augment = False):\n",
    "    data = pd.read_csv(protocol_path, sep=' ', header=None, names=['speaker_id','filename','system_id','null','class_name'])\n",
    "    features, labels = [], []\n",
    "    for index, row in data.iterrows():\n",
    "        file_path = os.path.join(base_dir, row['filename'] + '.flac')\n",
    "        # print(file_path)\n",
    "        if augment:\n",
    "            mfcc = extract_augmented_features(file_path)\n",
    "        else:\n",
    "            mfcc = extract_features(file_path)\n",
    "        features.append(mfcc)\n",
    "        labels.append(1 if row['class_name'] == 'bonafide' else 0)\n",
    "    return np.array(features), np.array(labels)"
   ]
  },
  {
   "cell_type": "code",
   "execution_count": null,
   "metadata": {},
   "outputs": [],
   "source": [
    "def plot_mfccs(features, labels):\n",
    "    plt.figure(figsize=(10, 6))\n",
    "    sns.scatterplot(x=features[:, 0], y=features[:, 1], hue=labels, palette='viridis', alpha=0.5)\n",
    "    plt.title('MFCCs Feature Distribution')\n",
    "    plt.xlabel('MFCC 1')\n",
    "    plt.ylabel('MFCC 2')\n",
    "    plt.legend(title='Label', labels=['Fake', 'Real'])\n",
    "    plt.show()\n",
    "\n",
    "def plot_confusion_matrix(y_true, y_pred):\n",
    "    cm = confusion_matrix(y_true, y_pred)\n",
    "    plt.figure(figsize=(6, 6))\n",
    "    sns.heatmap(cm, annot=True, fmt='d', cmap='Blues', xticklabels=['Fake', 'Real'], yticklabels=['Fake', 'Real'])\n",
    "    plt.xlabel('Predicted Label')\n",
    "    plt.ylabel('True Label')\n",
    "    plt.title('Confusion Matrix')\n",
    "    plt.show()"
   ]
  },
  {
   "cell_type": "code",
   "execution_count": null,
   "metadata": {},
   "outputs": [],
   "source": [
    "from tensorflow.keras.models import Sequential\n",
    "from tensorflow.keras.layers import Dense, Conv2D, Flatten, MaxPooling2D, Dropout\n",
    "\n",
    "def create_model():\n",
    "    model = Sequential([\n",
    "        Conv2D(32, (3, 3), activation='relu', input_shape=(40, 44, 1)),\n",
    "        MaxPooling2D((2, 2)),\n",
    "        Conv2D(64, (3, 3), activation='relu'),\n",
    "        MaxPooling2D((2, 2)),\n",
    "        Flatten(),\n",
    "        Dense(64, activation='relu'),\n",
    "        Dropout(0.5),\n",
    "        Dense(1, activation='sigmoid')\n",
    "    ])\n",
    "    \n",
    "    model.compile(optimizer='adam',\n",
    "                    loss='binary_crossentropy',\n",
    "                    metrics=['accuracy'])\n",
    "    return model\n"
   ]
  },
  {
   "cell_type": "markdown",
   "metadata": {},
   "source": [
    "With Augmentation"
   ]
  },
  {
   "cell_type": "code",
   "execution_count": null,
   "metadata": {},
   "outputs": [],
   "source": [
    "# Path to the training dataset and protocol\n",
    "base_dir = './input/asvspoof-2019-dataset/LA/LA/ASVspoof2019_LA_train/flac'\n",
    "protocol_path = './input/asvspoof-2019-dataset/LA/LA/ASVspoof2019_LA_cm_protocols/ASVspoof2019.LA.cm.train.trn.txt'\n",
    "\n",
    "# Load and prepare the dataset\n",
    "AugX, Augy = load_data(base_dir, protocol_path, True)"
   ]
  },
  {
   "cell_type": "code",
   "execution_count": null,
   "metadata": {},
   "outputs": [],
   "source": [
    "plot_mfccs(AugX,Augy)\n",
    "# Split the dataset into training and test sets\n",
    "AugX_train, AugX_test, Augy_train, Augy_test = train_test_split(AugX, Augy, test_size=0.25, random_state=42)\n",
    "\n",
    "# Create and train the logistic regression model\n",
    "model = LogisticRegression(max_iter=1000)\n",
    "model.fit(AugX_train, Augy_train)\n",
    "\n",
    "# Evaluate the model\n",
    "Aug_predictions = model.predict(AugX_test)\n",
    "Aug_accuracy = accuracy_score(Augy_test, Aug_predictions)\n",
    "\n",
    "print(f'Accuracy for logistical Regression Model with Augmented Audio: {Aug_accuracy:.2f}')\n",
    "\n",
    "plot_confusion_matrix(Augy_test, Aug_predictions)"
   ]
  },
  {
   "cell_type": "markdown",
   "metadata": {},
   "source": [
    "Without Augmentation"
   ]
  },
  {
   "cell_type": "code",
   "execution_count": null,
   "metadata": {},
   "outputs": [],
   "source": [
    "# Load and prepare the dataset without Audio Augmentation\n",
    "X, y = load_data(base_dir, protocol_path)"
   ]
  },
  {
   "cell_type": "markdown",
   "metadata": {},
   "source": [
    "Logistic Regression Model"
   ]
  },
  {
   "cell_type": "code",
   "execution_count": null,
   "metadata": {},
   "outputs": [],
   "source": [
    "plot_mfccs(X,y)\n",
    "# Split the dataset into training and test sets\n",
    "X_train, X_test, y_train, y_test = train_test_split(X, y, test_size=0.25, random_state=42)\n",
    "\n",
    "# Create and train the logistic regression model\n",
    "model = LogisticRegression(max_iter=1000)\n",
    "\n",
    "model.fit(X_train, y_train)\n",
    "\n",
    "\n",
    "\n",
    "# Evaluate the model\n",
    "predictions = model.predict(X_test)\n",
    "accuracy = accuracy_score(y_test, predictions)\n",
    "print(f'Accuracy: {accuracy:.2f}')\n",
    "plot_confusion_matrix(y_test, predictions)"
   ]
  },
  {
   "cell_type": "markdown",
   "metadata": {},
   "source": [
    "CNN Model"
   ]
  },
  {
   "cell_type": "code",
   "execution_count": null,
   "metadata": {},
   "outputs": [],
   "source": []
  }
 ],
 "metadata": {
  "kernelspec": {
   "display_name": "Python 3",
   "language": "python",
   "name": "python3"
  },
  "language_info": {
   "codemirror_mode": {
    "name": "ipython",
    "version": 3
   },
   "file_extension": ".py",
   "mimetype": "text/x-python",
   "name": "python",
   "nbconvert_exporter": "python",
   "pygments_lexer": "ipython3",
   "version": "3.12.1"
  }
 },
 "nbformat": 4,
 "nbformat_minor": 2
}
